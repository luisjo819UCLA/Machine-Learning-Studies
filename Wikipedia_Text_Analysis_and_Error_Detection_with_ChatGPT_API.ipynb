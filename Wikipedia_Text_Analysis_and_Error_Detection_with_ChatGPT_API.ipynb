{
  "cells": [
    {
      "cell_type": "code",
      "execution_count": null,
      "metadata": {
        "id": "HKSTLF2BX6jH"
      },
      "outputs": [],
      "source": []
    },
    {
      "cell_type": "code",
      "execution_count": 1,
      "metadata": {
        "id": "Q2A8TGhKm3i5"
      },
      "outputs": [],
      "source": [
        "import openai\n",
        "import os\n",
        "import wikipedia"
      ]
    },
    {
      "cell_type": "markdown",
      "metadata": {
        "id": "7E9HEMJSX-3T"
      },
      "source": [
        "# 1.) Set up OpenAI and the enviornment\n"
      ]
    },
    {
      "cell_type": "code",
      "execution_count": 2,
      "metadata": {
        "id": "4zwwdkZDYDZN"
      },
      "outputs": [],
      "source": [
        "# DONE"
      ]
    },
    {
      "cell_type": "code",
      "execution_count": 3,
      "metadata": {
        "id": "8IiKS0snlpYP"
      },
      "outputs": [],
      "source": [
        "OPENAI_API_KEY = \"XXXXXXXXXXXXXXXXXXXXXXXXXXXXXXXXXXXXXX\"\n",
        "#Delete this before post it on github"
      ]
    },
    {
      "cell_type": "code",
      "execution_count": 4,
      "metadata": {},
      "outputs": [],
      "source": [
        "openai.api_key = OPENAI_API_KEY"
      ]
    },
    {
      "cell_type": "code",
      "execution_count": 5,
      "metadata": {},
      "outputs": [],
      "source": [
        "client = openai.OpenAI(\n",
        "    api_key = openai.api_key\n",
        ")"
      ]
    },
    {
      "cell_type": "markdown",
      "metadata": {
        "id": "tOXc5_BTm9HP"
      },
      "source": [
        "# 2.) Use the wikipedia api to get a function that pulls in the text of a wikipedia page"
      ]
    },
    {
      "cell_type": "code",
      "execution_count": 6,
      "metadata": {},
      "outputs": [],
      "source": [
        "page_titles = [\"Artificial Inteligence\",\"Machine Learning\"]"
      ]
    },
    {
      "cell_type": "code",
      "execution_count": 7,
      "metadata": {},
      "outputs": [],
      "source": [
        "search_results = wikipedia.search(page_titles)"
      ]
    },
    {
      "cell_type": "code",
      "execution_count": 8,
      "metadata": {},
      "outputs": [
        {
          "data": {
            "text/plain": [
              "'Machine learning'"
            ]
          },
          "execution_count": 8,
          "metadata": {},
          "output_type": "execute_result"
        }
      ],
      "source": [
        "search_results[0]"
      ]
    },
    {
      "cell_type": "code",
      "execution_count": 9,
      "metadata": {},
      "outputs": [],
      "source": [
        "def get_wikipedia(page_title):\n",
        "    search_results = wikipedia.search(page_title)\n",
        "    page = wikipedia.page(search_results[0])\n",
        "    return page.content"
      ]
    },
    {
      "cell_type": "code",
      "execution_count": 10,
      "metadata": {},
      "outputs": [
        {
          "data": {
            "text/plain": [
              "21085"
            ]
          },
          "execution_count": 10,
          "metadata": {},
          "output_type": "execute_result"
        }
      ],
      "source": [
        "dina1 = get_wikipedia(\"Dina Boluarte\")\n",
        "len(dina1)"
      ]
    },
    {
      "cell_type": "code",
      "execution_count": 34,
      "metadata": {
        "id": "-v7OYamHlrEB"
      },
      "outputs": [],
      "source": [
        "#Lets use the wikipedia API to pull text of a wikipedia page\n",
        "def get_wiki_text(topic):\n",
        "    topic1 = wikipedia.search(topic)\n",
        "    return wikipedia.summary(topic1[0])\n"
      ]
    },
    {
      "cell_type": "code",
      "execution_count": 12,
      "metadata": {
        "id": "TgY2FkTdmhTH"
      },
      "outputs": [
        {
          "data": {
            "text/plain": [
              "2689"
            ]
          },
          "execution_count": 12,
          "metadata": {},
          "output_type": "execute_result"
        }
      ],
      "source": [
        "dina2 = get_wiki_text(\"Dina Boluarte\")\n",
        "len(dina2)"
      ]
    },
    {
      "cell_type": "code",
      "execution_count": 13,
      "metadata": {},
      "outputs": [
        {
          "name": "stdout",
          "output_type": "stream",
          "text": [
            "From wikipedia API, summary gives less text than the full page.\n"
          ]
        }
      ],
      "source": [
        "print(\"From wikipedia API, summary gives less text than the full page.\")"
      ]
    },
    {
      "cell_type": "markdown",
      "metadata": {
        "id": "_9aruncMmubX"
      },
      "source": [
        "# 3.) Build a chatgpt bot that will analyze the text given and try to locate any false info"
      ]
    },
    {
      "cell_type": "code",
      "execution_count": 15,
      "metadata": {},
      "outputs": [],
      "source": [
        "wiki_content = get_wiki_text(page_titles[0])"
      ]
    },
    {
      "cell_type": "code",
      "execution_count": 16,
      "metadata": {
        "id": "Bmai3B6Dmw3O"
      },
      "outputs": [],
      "source": [
        "chat_completion = client.chat.completions.create(\n",
        "    model=\"gpt-4\",\n",
        "    messages  = [{ \"role\": \"system\", \"content\": 'I will give you an article, let me know if anything is potentially false. Go with afine tooth comb and have low sensitivity for locating potential errors (number them and list them without any justification). If there are no potential errors found then just return \"NONE\"'},\n",
        "    {\"role\": \"user\", \"content\": wiki_content}],\n",
        ")"
      ]
    },
    {
      "cell_type": "code",
      "execution_count": 17,
      "metadata": {},
      "outputs": [
        {
          "name": "stdout",
          "output_type": "stream",
          "text": [
            "1. \"The field went through multiple cycles of optimism, followed by periods of disappointment and loss of funding, known as AI winter.\" - The term 'AI winter' might not be universally recognized or correctly defined here.\n",
            "2. \"Funding and interest vastly increased after 2012 when deep learning surpassed all previous AI techniques.\" - The statement suggests that deep learning surpassed all previous AI techniques after 2012 which might be inaccurate as different AI techniques may excel in different areas.\n",
            "3. \"Artificial intelligence was founded as an academic discipline in 1956.\" - The exact year artificial intelligence was established as an academic discipline might be subject to debate.\n",
            "4. \"Alan Turing was the first person to conduct substantial research in the field that he called machine intelligence.\" - Attribution of the term 'machine intelligence' to Alan Turing could be incorrect. \n",
            "5. \"This led to the AI spring of the early 2020s, with companies, universities, and laboratories overwhelmingly based in the United States pioneering significant advances in artificial intelligence.\"- This claim might be contentious as significant advances in artificial intelligence are happening worldwide, not just in the United States.\n",
            "6. \"The traditional goals of AI research include reasoning, knowledge representation, planning, learning, natural language processing, perception, and support for robotics.\" - This sentence might not comprehensively list all the traditional goals of AI research.\n"
          ]
        }
      ],
      "source": [
        "print(chat_completion.choices[0].message.content)"
      ]
    },
    {
      "cell_type": "code",
      "execution_count": 24,
      "metadata": {},
      "outputs": [
        {
          "data": {
            "text/plain": [
              "['University of California, Los Angeles',\n",
              " 'UCLA Bruins football',\n",
              " 'UCLA Bruins',\n",
              " 'Ronald Reagan UCLA Medical Center',\n",
              " 'DeShaun Foster',\n",
              " \"UCLA Bruins men's basketball\",\n",
              " 'List of University of California, Los Angeles people',\n",
              " 'UCLA Extension',\n",
              " 'UCLA Health',\n",
              " 'UCLA Library']"
            ]
          },
          "execution_count": 24,
          "metadata": {},
          "output_type": "execute_result"
        }
      ],
      "source": [
        "wikipedia.search(\"UCLA\")"
      ]
    },
    {
      "cell_type": "code",
      "execution_count": 26,
      "metadata": {},
      "outputs": [],
      "source": [
        "wiki_content = get_wiki_text(\"University of California, Los Angeles\")"
      ]
    },
    {
      "cell_type": "code",
      "execution_count": 27,
      "metadata": {
        "id": "1jI-un5PnDjg"
      },
      "outputs": [],
      "source": [
        "chat_completion = client.chat.completions.create(\n",
        "    model=\"gpt-4\",\n",
        "    messages  = [{ \"role\": \"system\", \"content\": 'I will give you an article, let me know the overall positive or negative sentiment index.  Give me a unique number between -1 and 1, where negative number are negative sentiment and positive numbers are positive sentiment. 0 is neutral sentiment. If there are no potential errors found then just return \"NONE\"'},\n",
        "    {\"role\": \"user\", \"content\": wiki_content}],\n",
        ")"
      ]
    },
    {
      "cell_type": "code",
      "execution_count": 29,
      "metadata": {
        "id": "_TMKFGN4nDJ4"
      },
      "outputs": [
        {
          "name": "stdout",
          "output_type": "stream",
          "text": [
            "The overall sentiment index for UCLA wikipedia article is: \n",
            "0.7\n"
          ]
        }
      ],
      "source": [
        "print(\"The overall sentiment index for UCLA wikipedia article is: \")\n",
        "print(chat_completion.choices[0].message.content)"
      ]
    },
    {
      "cell_type": "code",
      "execution_count": 30,
      "metadata": {
        "id": "6FKAJVXSoayA"
      },
      "outputs": [],
      "source": [
        "wiki_content = get_wiki_text(\"UCLA Bruins football\")"
      ]
    },
    {
      "cell_type": "code",
      "execution_count": 31,
      "metadata": {},
      "outputs": [],
      "source": [
        "chat_completion = client.chat.completions.create(\n",
        "    model=\"gpt-4\",\n",
        "    messages  = [{ \"role\": \"system\", \"content\": 'I will give you an article, let me know the overall positive or negative sentiment index.  Give me a unique number between -1 and 1, where negative number are negative sentiment and positive numbers are positive sentiment. 0 is neutral sentiment. If there are no potential errors found then just return \"NONE\"'},\n",
        "    {\"role\": \"user\", \"content\": wiki_content}],\n",
        ")"
      ]
    },
    {
      "cell_type": "code",
      "execution_count": 32,
      "metadata": {},
      "outputs": [
        {
          "name": "stdout",
          "output_type": "stream",
          "text": [
            "The overall sentiment index for UCLA Bruins football wikipedia article is: \n",
            "0.3\n"
          ]
        }
      ],
      "source": [
        "print(\"The overall sentiment index for UCLA Bruins football wikipedia article is: \")\n",
        "print(chat_completion.choices[0].message.content)"
      ]
    },
    {
      "cell_type": "markdown",
      "metadata": {
        "id": "zPw5LyPEobmk"
      },
      "source": [
        "# 4.) Make a for loop and check a few wikipedia pages and return a report of any potentially false info via wikipedia"
      ]
    },
    {
      "cell_type": "code",
      "execution_count": 41,
      "metadata": {
        "id": "V7cuhML2ocGn"
      },
      "outputs": [],
      "source": [
        "page_titles = [\"Artificial intelligence\",\"Machine learning\",\"UCLA\"]"
      ]
    },
    {
      "cell_type": "code",
      "execution_count": 42,
      "metadata": {},
      "outputs": [],
      "source": [
        "def chat_completion(topic):\n",
        "    wiki_content = get_wiki_text(topic)\n",
        "    chat_completion = client.chat.completions.create(\n",
        "        model=\"gpt-4\",\n",
        "        messages  = [{ \"role\": \"system\", \"content\": 'I will give you an article, let me know if anything is potentially false. Go with afine tooth comb and have low sensitivity for locating potential errors (number them and list them without any justification). If there are no potential errors found then just return \"NONE\"'},\n",
        "        {\"role\": \"user\", \"content\": wiki_content}],\n",
        "    )\n",
        "    return chat_completion.choices[0].message.content"
      ]
    },
    {
      "cell_type": "code",
      "execution_count": 43,
      "metadata": {},
      "outputs": [
        {
          "name": "stdout",
          "output_type": "stream",
          "text": [
            "Page Title: Artificial intelligence\n",
            "1. \"Artificial intelligence (AI) is the intelligence of machines or software, as opposed to the intelligence of living beings, primarily of humans.\"\n",
            "2. \"Such machines may be called AIs.\"\n",
            "3. \"AI technology is widely used throughout industry, government, and science.\"\n",
            "4. \"Alan Turing was the first person to conduct substantial research in the field that he called machine intelligence.\"\n",
            "5. \"Artificial intelligence was founded as an academic discipline in 1956.\"\n",
            "6. \"The field went through multiple cycles of optimism, followed by periods of disappointment and loss of funding, known as AI winter.\"\n",
            "7. \"Funding and interest vastly increased after 2012 when deep learning surpassed all previous AI techniques, and after 2017 with the transformer architecture.\"\n",
            "8. \"This led to the AI spring of the early 2020s, with companies, universities, and laboratories overwhelmingly based in the United States pioneering significant advances in artificial intelligence.\"\n",
            "9. \"The growing use of artificial intelligence in the 21st century is influencing a societal and economic shift towards increased automation, data-driven decision-making, and the integration of AI systems into various areas of life, impacting job markets, healthcare, government, industry, and education.\"\n",
            "10. \"This raises questions about the ethical implications and risks of AI, prompting discussions about regulatory policies to ensure the safety and benefits of the technology.\"\n",
            "11. \"The various sub-fields of AI research are centered around particular goals and the use of particular tools. The traditional goals of AI research include reasoning, knowledge representation, planning, learning, natural language processing, perception, and support for robotics.\"\n",
            "12. \"General intelligence (the ability to complete any task performable by a human) is among the field's long-term goals.\"\n",
            "13. \"AI also draws upon psychology, linguistics, philosophy, neuroscience and other fields.\"\n",
            "Page Title: Machine learning\n",
            "Error\n",
            "Page Title: UCLA\n",
            "1. The claim that UCLA's academic roots were established in 1881 could be incorrect, as UCLA was founded later in 1919.\n",
            "2. The article states that the University of California, Los Angeles is the second-oldest of the ten-campus University of California system after the University of California, Berkeley. This could be incorrect as UCLA is not chronologically the second-oldest institution in the University of California system.\n",
            "3. The statement about UCLA receiving 174,914 undergraduate applications for Fall 2022 could be incorrect as there may not yet be data available for this particular term.\n",
            "4. The claim that UCLA has been represented in every Olympics since the university's founding (except in 1924) could be incorrect. This would require thorough validation.\n",
            "5. The claim that UCLA has had a gold medalist in every Olympics in which the U.S. has participated since 1932 could be incorrect and would need to be validated.\n",
            "6. The exact number of 410 Bruins having made Olympic teams could be incorrect. \n",
            "7. The exact count of Olympic medals won by Bruins, segregated as 136 gold, 71 silver, and 63 bronze could be incorrect.\n",
            "8. The piece asserts that 27 Nobel laureates, five Turing Award winners, two Chief Scientists of the U.S. Air Force, and one Fields Medalist have been affiliated with UCLA. While this could be the case, the numbers may not be accurate or up-to-date.\n",
            "9. The article states that 55 associated faculty members have been elected to the National Academy of Sciences and 29 to the National Academy of Engineering. These figures may be incorrect. \n",
            "10. The statement that 41 individuals were elected to the National Academy of Medicine and 156 to the American Academy of Arts and Sciences may be incorrect.\n"
          ]
        }
      ],
      "source": [
        "for page_title in page_titles:\n",
        "    print(f\"Page Title: {page_title}\")\n",
        "    try:\n",
        "        print(chat_completion(page_title))\n",
        "    except:\n",
        "        print(\"Error\")\n",
        "        "
      ]
    }
  ],
  "metadata": {
    "colab": {
      "provenance": []
    },
    "kernelspec": {
      "display_name": "Python 3",
      "name": "python3"
    },
    "language_info": {
      "codemirror_mode": {
        "name": "ipython",
        "version": 3
      },
      "file_extension": ".py",
      "mimetype": "text/x-python",
      "name": "python",
      "nbconvert_exporter": "python",
      "pygments_lexer": "ipython3",
      "version": "3.11.7"
    }
  },
  "nbformat": 4,
  "nbformat_minor": 0
}
