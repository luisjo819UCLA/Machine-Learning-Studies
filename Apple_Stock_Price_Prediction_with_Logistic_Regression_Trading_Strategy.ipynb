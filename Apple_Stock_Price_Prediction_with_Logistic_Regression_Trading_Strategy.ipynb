{
 "cells": [
  {
   "cell_type": "markdown",
   "id": "07c34ec6",
   "metadata": {},
   "source": [
    "# 1.) Pull in Data and Convert ot Monthly"
   ]
  },
  {
   "cell_type": "code",
   "execution_count": 1,
   "id": "b48f7d57",
   "metadata": {},
   "outputs": [],
   "source": [
    "import yfinance as yf\n",
    "import pandas as pd\n",
    "import numpy as np\n",
    "import matplotlib.pyplot as plt"
   ]
  },
  {
   "cell_type": "code",
   "execution_count": 2,
   "id": "4fa973aa",
   "metadata": {},
   "outputs": [
    {
     "name": "stdout",
     "output_type": "stream",
     "text": [
      "[*********************100%%**********************]  1 of 1 completed\n"
     ]
    }
   ],
   "source": [
    "apple_data = yf.download('AAPL')\n",
    "df = apple_data.resample(\"M\").last()[[\"Adj Close\"]]\n",
    "#Adj Close is adjusted close price adjusted for both dividends and splits before the next days open."
   ]
  },
  {
   "cell_type": "markdown",
   "id": "54bbfd02",
   "metadata": {},
   "source": [
    "# 2.) Create columns. \n",
    "  - Current Stock Price, Difference in stock price, Whether it went up or down over the next month,  option premium"
   ]
  },
  {
   "cell_type": "code",
   "execution_count": 4,
   "id": "1f21f202",
   "metadata": {},
   "outputs": [],
   "source": [
    "df\n",
    "# Difference in stockprice to the next period.\n",
    "df.diff()\n",
    "#We see than we have one columnd down. We can try to move that 1 to make our new column dataframe differeneces. \n",
    "df[\"Diff\"]= df[\"Adj Close\"].diff().shift(-1)    # We see that we have one column up.\n",
    "#This is like the expected return.\n",
    "df[\"Target\"] = np.sign(df[\"Diff\"])\n",
    "df[\"Premium\"] = 0.08*df[\"Adj Close\"]"
   ]
  },
  {
   "cell_type": "code",
   "execution_count": 33,
   "id": "6a623843",
   "metadata": {},
   "outputs": [
    {
     "data": {
      "text/html": [
       "<div>\n",
       "<style scoped>\n",
       "    .dataframe tbody tr th:only-of-type {\n",
       "        vertical-align: middle;\n",
       "    }\n",
       "\n",
       "    .dataframe tbody tr th {\n",
       "        vertical-align: top;\n",
       "    }\n",
       "\n",
       "    .dataframe thead th {\n",
       "        text-align: right;\n",
       "    }\n",
       "</style>\n",
       "<table border=\"1\" class=\"dataframe\">\n",
       "  <thead>\n",
       "    <tr style=\"text-align: right;\">\n",
       "      <th></th>\n",
       "      <th>Adj Close</th>\n",
       "      <th>Diff</th>\n",
       "      <th>Target</th>\n",
       "      <th>Premium</th>\n",
       "    </tr>\n",
       "    <tr>\n",
       "      <th>Date</th>\n",
       "      <th></th>\n",
       "      <th></th>\n",
       "      <th></th>\n",
       "      <th></th>\n",
       "    </tr>\n",
       "  </thead>\n",
       "  <tbody>\n",
       "    <tr>\n",
       "      <th>1980-12-31</th>\n",
       "      <td>0.117887</td>\n",
       "      <td>-0.020296</td>\n",
       "      <td>-1.0</td>\n",
       "      <td>0.009431</td>\n",
       "    </tr>\n",
       "    <tr>\n",
       "      <th>1981-01-31</th>\n",
       "      <td>0.097591</td>\n",
       "      <td>-0.006045</td>\n",
       "      <td>-1.0</td>\n",
       "      <td>0.007807</td>\n",
       "    </tr>\n",
       "    <tr>\n",
       "      <th>1981-02-28</th>\n",
       "      <td>0.091546</td>\n",
       "      <td>-0.006909</td>\n",
       "      <td>-1.0</td>\n",
       "      <td>0.007324</td>\n",
       "    </tr>\n",
       "    <tr>\n",
       "      <th>1981-03-31</th>\n",
       "      <td>0.084637</td>\n",
       "      <td>0.013386</td>\n",
       "      <td>1.0</td>\n",
       "      <td>0.006771</td>\n",
       "    </tr>\n",
       "    <tr>\n",
       "      <th>1981-04-30</th>\n",
       "      <td>0.098023</td>\n",
       "      <td>0.016409</td>\n",
       "      <td>1.0</td>\n",
       "      <td>0.007842</td>\n",
       "    </tr>\n",
       "  </tbody>\n",
       "</table>\n",
       "</div>"
      ],
      "text/plain": [
       "            Adj Close      Diff  Target   Premium\n",
       "Date                                             \n",
       "1980-12-31   0.117887 -0.020296    -1.0  0.009431\n",
       "1981-01-31   0.097591 -0.006045    -1.0  0.007807\n",
       "1981-02-28   0.091546 -0.006909    -1.0  0.007324\n",
       "1981-03-31   0.084637  0.013386     1.0  0.006771\n",
       "1981-04-30   0.098023  0.016409     1.0  0.007842"
      ]
     },
     "execution_count": 33,
     "metadata": {},
     "output_type": "execute_result"
    }
   ],
   "source": [
    "df.head()\n",
    "#FP we losse 100%. If TP we win the premium. If FN we loose the premium. If TN we win 100%."
   ]
  },
  {
   "cell_type": "markdown",
   "id": "c9987e25",
   "metadata": {},
   "source": [
    "# 3.) Pull in X data, normalize and build a LogReg on column 2"
   ]
  },
  {
   "cell_type": "code",
   "execution_count": 35,
   "id": "132b4471",
   "metadata": {},
   "outputs": [],
   "source": [
    "import numpy as np\n",
    "import pandas as pd\n",
    "from sklearn.model_selection import train_test_split\n",
    "from sklearn.linear_model import LogisticRegression\n",
    "from sklearn import metrics"
   ]
  },
  {
   "cell_type": "code",
   "execution_count": 36,
   "id": "b21f3c33",
   "metadata": {},
   "outputs": [],
   "source": [
    "X = pd.read_csv(\"Xdata.csv\", index_col=\"Date\", parse_dates=[\"Date\"])"
   ]
  },
  {
   "cell_type": "code",
   "execution_count": 37,
   "id": "7b38602e",
   "metadata": {},
   "outputs": [],
   "source": [
    "y = df.loc[:\"2023-09-30\",\"Target\"].copy()\n",
    "df = df.loc[:\"2023-09-30\",:].copy()"
   ]
  },
  {
   "cell_type": "code",
   "execution_count": 39,
   "id": "f3bc75a2",
   "metadata": {},
   "outputs": [],
   "source": [
    "#Now we build a logistic regression\n",
    "logreg = LogisticRegression()\n",
    "logreg.fit(X, y)\n",
    "y_pred = logreg.predict(X)"
   ]
  },
  {
   "cell_type": "code",
   "execution_count": 40,
   "id": "09084eb5",
   "metadata": {},
   "outputs": [],
   "source": [
    "df[\"Prediction\"] = y_pred\n"
   ]
  },
  {
   "cell_type": "markdown",
   "id": "2c2c792d",
   "metadata": {},
   "source": [
    "# 4.) Add columns, prediction and profits."
   ]
  },
  {
   "cell_type": "code",
   "execution_count": 53,
   "id": "dc06ea86",
   "metadata": {},
   "outputs": [
    {
     "name": "stderr",
     "output_type": "stream",
     "text": [
      "C:\\Users\\luisj\\AppData\\Local\\Temp\\ipykernel_19764\\2090117993.py:4: FutureWarning: Setting an item of incompatible dtype is deprecated and will raise in a future error of pandas. Value '[6.77095652e-03 7.84186482e-03 4.21455175e-03 5.14728785e-03\n",
      " 3.52368057e-03 3.73094171e-03 4.97456878e-03 5.04365921e-03\n",
      " 7.01275706e-03 8.25644732e-03 1.12964547e-02 1.16764355e-02\n",
      " 1.39564228e-02 9.63824749e-03 5.63095868e-03 6.73641026e-03\n",
      " 6.84004009e-03 6.84004009e-03 7.04730272e-03 6.84004009e-03\n",
      " 4.80185181e-03 4.14546371e-03 4.35278773e-03 5.14728785e-03\n",
      " 5.56187093e-03 6.08002007e-03 6.39097512e-03 6.90912664e-03\n",
      " 7.80731857e-03 8.36007774e-03 8.63642454e-03 9.25827026e-03\n",
      " 9.56915915e-03 1.10545957e-02 1.11928272e-02 1.53382921e-02\n",
      " 1.78255415e-02 2.18661284e-02 2.24196649e-02 2.28348732e-02\n",
      " 2.99315476e-02 1.83314049e-02 2.30531263e-02 2.22636962e-02\n",
      " 2.28202581e-02 2.31442952e-02 2.22799635e-02 2.10782766e-02\n",
      " 2.00128245e-02 2.19087791e-02 2.23790455e-02 2.51126790e-02\n",
      " 1.92344844e-02 1.92964423e-02 2.23470569e-02 2.34761524e-02\n",
      " 1.65543365e-02 1.75533044e-02 2.10484385e-02 2.46281314e-02\n",
      " 3.17874527e-02 3.28587699e-02 2.66131711e-02 2.85475945e-02\n",
      " 2.93388915e-02 3.25907254e-02 3.74324012e-02 3.37376642e-02\n",
      " 2.62588143e-02 3.05504107e-02 3.35311556e-02 2.99516273e-02\n",
      " 1.37496519e-02 1.80878365e-02 1.72673273e-02 1.93334961e-02\n",
      " 1.57620835e-02 2.00371671e-02 2.01065731e-02 2.22997332e-02\n",
      " 2.33473873e-02 2.11604595e-02 2.29613805e-02 2.50190544e-02\n",
      " 2.19184279e-02 1.47587168e-02 1.27152002e-02 1.33207071e-02\n",
      " 1.34342337e-02 1.39261568e-02 9.83912170e-03 8.62816215e-03\n",
      " 1.05959988e-02 1.03121901e-02 7.94703245e-03 1.10879230e-02\n",
      " 1.43046260e-02 1.61210370e-02 1.73698378e-02 1.88835883e-02\n",
      " 1.93376851e-02 2.47870374e-02 2.10784817e-02 2.17596722e-02\n",
      " 2.66791916e-02 2.80415154e-02 3.37179828e-02 3.83348012e-02\n",
      " 4.85145521e-02 5.92619038e-02 6.22514915e-02 6.28190947e-02\n",
      " 6.94038057e-02 5.08608007e-02 6.15324497e-02 1.80131984e-02\n",
      " 2.21002340e-02 2.67261124e-02 2.41588664e-02 1.87821460e-02\n",
      " 2.57936740e-02 2.65202379e-02 2.62780690e-02 2.86637139e-02\n",
      " 1.75591087e-02 1.73532259e-02 1.73895717e-02 1.71231353e-02\n",
      " 2.17369556e-02 2.30811024e-02 2.55273032e-02 2.50913191e-02\n",
      " 2.53214121e-02 2.58784461e-02 2.73195076e-02 2.89664388e-02\n",
      " 3.12188196e-02 3.39798141e-02 3.91628075e-02 4.17664051e-02\n",
      " 4.69251251e-02 6.34548569e-02 7.79865408e-02 9.31236744e-02\n",
      " 8.73352337e-02 8.91517067e-02 1.03295794e-01 1.13564882e-01\n",
      " 1.29840345e-01 1.39479647e-01 1.64256115e-01 1.74113445e-01\n",
      " 1.51904249e-01 1.38704634e-01 1.64328747e-01 1.86441097e-01\n",
      " 1.96371002e-01 2.05477600e-01 2.04920521e-01 2.25022583e-01\n",
      " 2.41709881e-01 2.93515110e-01 3.19115314e-01 3.35390625e-01\n",
      " 3.71695518e-01 4.41326294e-01 3.02791309e-01 3.47548561e-01\n",
      " 4.21296883e-01 3.84967728e-01 2.06712761e-01 2.16303692e-01\n",
      " 2.54594593e-01 3.04752960e-01 3.44957275e-01 3.95721092e-01\n",
      " 4.07394905e-01 4.48906898e-01 4.56536179e-01 4.84170532e-01\n",
      " 4.65158043e-01 4.95577812e-01 5.69156189e-01 6.09191284e-01\n",
      " 5.88774300e-01 6.87226181e-01 7.28955994e-01 7.53587418e-01\n",
      " 7.81221848e-01 8.21813583e-01 8.44070816e-01 8.12973404e-01\n",
      " 9.23535156e-01 9.25666351e-01 9.80886688e-01 1.10556793e+00\n",
      " 1.31375839e+00 1.39922867e+00 1.41441422e+00 1.47922546e+00\n",
      " 1.61809097e+00 1.08482491e+00 1.08792145e+00 1.08821632e+00\n",
      " 9.80998993e-01 1.11954033e+00 1.18724770e+00 1.30167633e+00\n",
      " 1.39286301e+00 1.25391876e+00 1.32603317e+00 1.35249222e+00\n",
      " 1.48692429e+00 1.60395905e+00 1.64832764e+00 1.69568634e+00\n",
      " 1.79592224e+00 1.92515701e+00 1.97611389e+00 2.09749466e+00\n",
      " 2.23644012e+00 2.24938110e+00 1.99976730e+00 1.77007111e+00\n",
      " 1.71606644e+00 1.76077225e+00 1.91935242e+00 1.96474854e+00\n",
      " 2.09344849e+00 2.05710556e+00 2.15575409e+00 2.25868378e+00\n",
      " 2.56084625e+00 2.68534485e+00 2.70337494e+00 2.79178528e+00\n",
      " 2.90432129e+00 3.18548035e+00 3.16648376e+00 3.13818726e+00\n",
      " 3.52868103e+00 3.62742523e+00 3.02801117e+00 3.19501892e+00\n",
      " 3.33808044e+00 3.66195923e+00 3.38809235e+00 3.83030365e+00\n",
      " 4.05504944e+00 4.35091278e+00 4.83249023e+00 5.20726990e+00\n",
      " 5.72166443e+00 4.96650848e+00 5.73817261e+00 6.22645874e+00\n",
      " 7.14415222e+00 8.32387817e+00 8.54292419e+00 9.35871704e+00\n",
      " 9.54669189e+00 9.61676086e+00 9.82709900e+00 1.08010583e+01\n",
      " 1.15029346e+01 1.11758105e+01 1.18313550e+01 1.30746118e+01\n",
      " 1.30770142e+01 1.08437292e+01 1.09763379e+01 1.03366223e+01\n",
      " 1.14790369e+01 1.17451550e+01 1.35195581e+01 1.41422461e+01\n",
      " 1.54762842e+01]' has dtype incompatible with int64, please explicitly cast to a compatible dtype first.\n",
      "  df.loc[(df[\"Prediction\"]==1) & (df[\"Target\"]==1), \"Profits\"] = df.loc[(df[\"Prediction\"]==1) & (df[\"Target\"]==1), \"Premium\"]\n"
     ]
    }
   ],
   "source": [
    "df[\"Profits\"] = 0\n",
    "#TP\n",
    "#When the prediction states that the diff will be above the strike, we get the premium that is 0.08*Adj Close.\n",
    "df.loc[(df[\"Prediction\"]==1) & (df[\"Target\"]==1), \"Profits\"] = df.loc[(df[\"Prediction\"]==1) & (df[\"Target\"]==1), \"Premium\"]\n",
    "#FP\n",
    "#Here we predict that the diff will be above the strike, but it is not. We loose the diff but still gain the premium.\n",
    "df.loc[(df[\"Prediction\"]==1) & (df[\"Target\"]==-1), \"Profits\"] = 100*df[\"Diff\"] + df[\"Premium\"]\n",
    "#Others are 0"
   ]
  },
  {
   "cell_type": "code",
   "execution_count": 54,
   "id": "0f17b39c",
   "metadata": {},
   "outputs": [
    {
     "data": {
      "text/html": [
       "<div>\n",
       "<style scoped>\n",
       "    .dataframe tbody tr th:only-of-type {\n",
       "        vertical-align: middle;\n",
       "    }\n",
       "\n",
       "    .dataframe tbody tr th {\n",
       "        vertical-align: top;\n",
       "    }\n",
       "\n",
       "    .dataframe thead th {\n",
       "        text-align: right;\n",
       "    }\n",
       "</style>\n",
       "<table border=\"1\" class=\"dataframe\">\n",
       "  <thead>\n",
       "    <tr style=\"text-align: right;\">\n",
       "      <th></th>\n",
       "      <th>Adj Close</th>\n",
       "      <th>Diff</th>\n",
       "      <th>Target</th>\n",
       "      <th>Premium</th>\n",
       "      <th>Prediction</th>\n",
       "      <th>Profits</th>\n",
       "    </tr>\n",
       "    <tr>\n",
       "      <th>Date</th>\n",
       "      <th></th>\n",
       "      <th></th>\n",
       "      <th></th>\n",
       "      <th></th>\n",
       "      <th></th>\n",
       "      <th></th>\n",
       "    </tr>\n",
       "  </thead>\n",
       "  <tbody>\n",
       "    <tr>\n",
       "      <th>1980-12-31</th>\n",
       "      <td>0.117887</td>\n",
       "      <td>-0.020296</td>\n",
       "      <td>-1.0</td>\n",
       "      <td>0.009431</td>\n",
       "      <td>-1.0</td>\n",
       "      <td>0.000000</td>\n",
       "    </tr>\n",
       "    <tr>\n",
       "      <th>1981-01-31</th>\n",
       "      <td>0.097591</td>\n",
       "      <td>-0.006045</td>\n",
       "      <td>-1.0</td>\n",
       "      <td>0.007807</td>\n",
       "      <td>-1.0</td>\n",
       "      <td>0.000000</td>\n",
       "    </tr>\n",
       "    <tr>\n",
       "      <th>1981-02-28</th>\n",
       "      <td>0.091546</td>\n",
       "      <td>-0.006909</td>\n",
       "      <td>-1.0</td>\n",
       "      <td>0.007324</td>\n",
       "      <td>-1.0</td>\n",
       "      <td>0.000000</td>\n",
       "    </tr>\n",
       "    <tr>\n",
       "      <th>1981-03-31</th>\n",
       "      <td>0.084637</td>\n",
       "      <td>0.013386</td>\n",
       "      <td>1.0</td>\n",
       "      <td>0.006771</td>\n",
       "      <td>1.0</td>\n",
       "      <td>0.006771</td>\n",
       "    </tr>\n",
       "    <tr>\n",
       "      <th>1981-04-30</th>\n",
       "      <td>0.098023</td>\n",
       "      <td>0.016409</td>\n",
       "      <td>1.0</td>\n",
       "      <td>0.007842</td>\n",
       "      <td>1.0</td>\n",
       "      <td>0.007842</td>\n",
       "    </tr>\n",
       "    <tr>\n",
       "      <th>...</th>\n",
       "      <td>...</td>\n",
       "      <td>...</td>\n",
       "      <td>...</td>\n",
       "      <td>...</td>\n",
       "      <td>...</td>\n",
       "      <td>...</td>\n",
       "    </tr>\n",
       "    <tr>\n",
       "      <th>2023-05-31</th>\n",
       "      <td>176.778076</td>\n",
       "      <td>16.675476</td>\n",
       "      <td>1.0</td>\n",
       "      <td>14.142246</td>\n",
       "      <td>1.0</td>\n",
       "      <td>14.142246</td>\n",
       "    </tr>\n",
       "    <tr>\n",
       "      <th>2023-06-30</th>\n",
       "      <td>193.453552</td>\n",
       "      <td>2.473404</td>\n",
       "      <td>1.0</td>\n",
       "      <td>15.476284</td>\n",
       "      <td>1.0</td>\n",
       "      <td>15.476284</td>\n",
       "    </tr>\n",
       "    <tr>\n",
       "      <th>2023-07-31</th>\n",
       "      <td>195.926956</td>\n",
       "      <td>-8.304138</td>\n",
       "      <td>-1.0</td>\n",
       "      <td>15.674156</td>\n",
       "      <td>-1.0</td>\n",
       "      <td>0.000000</td>\n",
       "    </tr>\n",
       "    <tr>\n",
       "      <th>2023-08-31</th>\n",
       "      <td>187.622818</td>\n",
       "      <td>-16.638077</td>\n",
       "      <td>-1.0</td>\n",
       "      <td>15.009825</td>\n",
       "      <td>-1.0</td>\n",
       "      <td>0.000000</td>\n",
       "    </tr>\n",
       "    <tr>\n",
       "      <th>2023-09-30</th>\n",
       "      <td>170.984741</td>\n",
       "      <td>-0.439423</td>\n",
       "      <td>-1.0</td>\n",
       "      <td>13.678779</td>\n",
       "      <td>-1.0</td>\n",
       "      <td>0.000000</td>\n",
       "    </tr>\n",
       "  </tbody>\n",
       "</table>\n",
       "<p>514 rows × 6 columns</p>\n",
       "</div>"
      ],
      "text/plain": [
       "             Adj Close       Diff  Target    Premium  Prediction    Profits\n",
       "Date                                                                       \n",
       "1980-12-31    0.117887  -0.020296    -1.0   0.009431        -1.0   0.000000\n",
       "1981-01-31    0.097591  -0.006045    -1.0   0.007807        -1.0   0.000000\n",
       "1981-02-28    0.091546  -0.006909    -1.0   0.007324        -1.0   0.000000\n",
       "1981-03-31    0.084637   0.013386     1.0   0.006771         1.0   0.006771\n",
       "1981-04-30    0.098023   0.016409     1.0   0.007842         1.0   0.007842\n",
       "...                ...        ...     ...        ...         ...        ...\n",
       "2023-05-31  176.778076  16.675476     1.0  14.142246         1.0  14.142246\n",
       "2023-06-30  193.453552   2.473404     1.0  15.476284         1.0  15.476284\n",
       "2023-07-31  195.926956  -8.304138    -1.0  15.674156        -1.0   0.000000\n",
       "2023-08-31  187.622818 -16.638077    -1.0  15.009825        -1.0   0.000000\n",
       "2023-09-30  170.984741  -0.439423    -1.0  13.678779        -1.0   0.000000\n",
       "\n",
       "[514 rows x 6 columns]"
      ]
     },
     "execution_count": 54,
     "metadata": {},
     "output_type": "execute_result"
    }
   ],
   "source": [
    "df"
   ]
  },
  {
   "cell_type": "markdown",
   "id": "e379d80c",
   "metadata": {},
   "source": [
    "# 5.) Plot profits over time"
   ]
  },
  {
   "cell_type": "code",
   "execution_count": 55,
   "id": "bc16f4dc",
   "metadata": {},
   "outputs": [
    {
     "data": {
      "text/plain": [
       "[<matplotlib.lines.Line2D at 0x16da2491990>]"
      ]
     },
     "execution_count": 55,
     "metadata": {},
     "output_type": "execute_result"
    },
    {
     "data": {
      "image/png": "[encoded data removed]",
      "text/plain": [
       "<Figure size 640x480 with 1 Axes>"
      ]
     },
     "metadata": {},
     "output_type": "display_data"
    }
   ],
   "source": [
    "plt.plot(np.cumsum(df[\"Profits\"]))"
   ]
  },
  {
   "cell_type": "markdown",
   "id": "99340635",
   "metadata": {},
   "source": [
    "#5.5)  I am confident that my skills would bring significant value to PJ and/or Philip Liu. With a robust background in work experience and a proven ability to collaborate effectively within a team, I am well-equipped to contribute positively. Specifically, I can highlight the following:\n",
    "\n",
    "-   Team Leadership: Regarding my work experience at the Central Bank of Peru, i have strong capabilities in leading teams, fostering collaboration, and ensuring the successful execution of collective goals.\n",
    "\n",
    "-   Coding Proficiency: My expertise extends to proficient coding in Python and R, enabling me to tackle complex tasks and contribute to technical aspects of projects.\n",
    "\n",
    "-   Office Software Skills: I am adept in utilizing essential office software, including Excel, Word, and Power Point, streamlining tasks and enhancing overall productivity.\n",
    "\n",
    "-   Startup Experience in Peru: Having worked in a startup environment in Peru, I bring valuable insights and adaptability to dynamic and entrepreneurial settings.\n",
    "\n",
    "I believe that these attributes make me a well-rounded candidate, poised to make meaningful contributions to the team and the objectives at hand."
   ]
  },
  {
   "cell_type": "markdown",
   "id": "5c970b3f",
   "metadata": {},
   "source": [
    "# 6.) Create a loop that stores total profits over time"
   ]
  },
  {
   "cell_type": "markdown",
   "id": "30f8738c",
   "metadata": {},
   "source": [
    "# 7.) What is the optimal threshold and plot the total profits for this model."
   ]
  },
  {
   "cell_type": "code",
   "execution_count": null,
   "id": "aba0f592",
   "metadata": {},
   "outputs": [],
   "source": []
  }
 ],
 "metadata": {
  "kernelspec": {
   "display_name": "Python 3",
   "language": "python",
   "name": "python3"
  },
  "language_info": {
   "codemirror_mode": {
    "name": "ipython",
    "version": 3
   },
   "file_extension": ".py",
   "mimetype": "text/x-python",
   "name": "python",
   "nbconvert_exporter": "python",
   "pygments_lexer": "ipython3",
   "version": "3.11.5"
  }
 },
 "nbformat": 4,
 "nbformat_minor": 5
}
